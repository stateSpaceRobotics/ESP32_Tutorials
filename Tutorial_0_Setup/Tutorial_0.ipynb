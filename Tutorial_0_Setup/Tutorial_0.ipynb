{
 "cells": [
  {
   "cell_type": "markdown",
   "metadata": {},
   "source": [
    "# Tutorial 0: Setup\n",
    "\n",
    "## Introduction\n",
    "This tutorial is the first in a series meant to teach some of the fundamentals of using the Arduino framework on the ESP32 microprocessor. These tutorials attempt to cover all of the elements needed for using the ESP32 as a wireless interface for precision control of DC motors using PWM control and Quadrature Encoder feedback. The basics of PID and tuning PID controllers are also explored. As an end result, the reader should know enough to implement basic motor control and wireless control of the ESP32.\n",
    "\n",
    "## Atom\n",
    "First, the text editor must be installed. To work with the Arduino framework, Atom will be used as a base for use with PlatformIO. Navigate to [Atom.io](https://atom.io/). A download link will be displayed to download the appropriate Atom editor for your OS. Download Atom from this website and install it according to your OS (run the exe for Windows, etc.).\n",
    "\n",
    "## PlatformIO\n",
    "With Atom installed, next PlatformIO must be installed on top of Atom. Atom is a simple, hackable text editor. PlatformIO extends Atom into a full IDE oriented for the embedded development targeted in this tutorial series. Navigate to [PlatformIO.org's page for installing on Atom](https://platformio.org/install/ide?install=atom). Follow the instructions on this page to install PlatformIO for Atom.\n",
    "\n",
    "## ESP32 Platform\n",
    "With PlatformIO installed on top of Atom, the final step is to install the toolchain for the ESP32 within PlatformIO. Open up the PlatformIO home page in Atom. Using the sidebar, navigate to the \"Platforms\" page. In the \"Embedded\" tab, search for `Espressif 32`. Click on this entry. On the subsequent page, click the install button. This will install the ESP32's software toolchain.\n",
    "\n",
    "## Conclusion\n",
    "Congratulations! You now have a setup capable of programming an ESP32 microcontroller! The next tutorial will walk through writing a simple program and the steps to compile and upload the code to the ESP32."
   ]
  }
 ],
 "metadata": {
  "kernelspec": {
   "display_name": "Python 3",
   "language": "python",
   "name": "python3"
  },
  "language_info": {
   "codemirror_mode": {
    "name": "ipython",
    "version": 3
   },
   "file_extension": ".py",
   "mimetype": "text/x-python",
   "name": "python",
   "nbconvert_exporter": "python",
   "pygments_lexer": "ipython3",
   "version": "3.6.5"
  }
 },
 "nbformat": 4,
 "nbformat_minor": 2
}
